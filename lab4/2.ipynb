{
 "cells": [
  {
   "cell_type": "code",
   "execution_count": 38,
   "metadata": {},
   "outputs": [],
   "source": [
    "import numpy as np\n",
    "from tabulate import tabulate\n",
    "import math"
   ]
  },
  {
   "cell_type": "markdown",
   "metadata": {},
   "source": [
    "Заданные функции"
   ]
  },
  {
   "cell_type": "code",
   "execution_count": 39,
   "metadata": {},
   "outputs": [],
   "source": [
    "def f(x, y, z):\n",
    "    return (x + (1/x) - (x + 2)*z + y) / (x*(x + 1))\n",
    "def g(x, y, z):\n",
    "    return z\n",
    "def p(x):\n",
    "    return (x + 2) / (x * (x + 1))\n",
    "def q(x):\n",
    "    return -1 * (1 / (x * (x + 1)))\n",
    "def f2(x):\n",
    "    return (x + (1/x)) / (x * (x + 1))\n",
    "def yf(x):\n",
    "    return x + 7/2 + (1/x) + ((x/2) + 1)*math.log(abs(x))"
   ]
  },
  {
   "cell_type": "markdown",
   "metadata": {},
   "source": [
    "Методы Рунге-Кутты стрельбы"
   ]
  },
  {
   "cell_type": "code",
   "execution_count": 40,
   "metadata": {},
   "outputs": [],
   "source": [
    "def runge_kutty_method(y0, z0, xl, xr, h):\n",
    "    \"\"\"\n",
    "    Решает задачу Коши для ОДУ 2-го порядка методом Рунге-Кутты 4-го порядка.\n",
    "    \n",
    "    Параметры:\n",
    "    y0 - начальное значение y.\n",
    "    z0 - начальное значение z.\n",
    "    xl - начальная точка интервала интегрирования.\n",
    "    xr - конечная точка интервала интегрирования.\n",
    "    h - шаг интегрирования.\n",
    "    \n",
    "    Возвращает:\n",
    "    Списки значений x, y, z на интервале интегрирования.\n",
    "    \"\"\"\n",
    "    x = [i for i in np.arange(xl, xr + h, h)]\n",
    "    y = [y0]\n",
    "    z = [z0]\n",
    "    dz = []\n",
    "    dy = []\n",
    "    Kz = []\n",
    "    Ky = []\n",
    "    \n",
    "    # Основной цикл метода Рунге-Кутты\n",
    "    for i in range(len(x) - 1):\n",
    "        L1 = h * f(x[i], y[i], z[i])\n",
    "        K1 = h * g(x[i], y[i], z[i])\n",
    "        L2 = h * f(x[i] + 0.5 * h, y[i] + 0.5 * K1, z[i] + 0.5 * L1)\n",
    "        K2 = h * g(x[i] + 0.5 * h, y[i] + 0.5 * K1, z[i] + 0.5 * L1)\n",
    "        L3 = h * f(x[i] + 0.5 * h, y[i] + 0.5 * K2, z[i] + 0.5 * L2)\n",
    "        K3 = h * g(x[i] + 0.5 * h, y[i] + 0.5 * K2, z[i] + 0.5 * L2)\n",
    "        L4 = h * f(x[i] + h, y[i] + K3, z[i] + L3)\n",
    "        K4 = h * g(x[i] + h, y[i] + K3, z[i] + L3)\n",
    "        Ky.append([K1, K2, K3, K4])\n",
    "        Kz.append([L1, L2, L3, L4])\n",
    "        \n",
    "        # Вычисление приращений dy и dz по формуле Рунге-Кутты\n",
    "        dy.append((K1 + 2 * K2 + 2 * K3 + K4) / 6)\n",
    "        dz.append((L1 + 2 * L2 + 2 * L3 + L4) / 6)\n",
    "        \n",
    "        y.append(y[i] + dy[i])\n",
    "        z.append(z[i] + dz[i])\n",
    "    \n",
    "    return x, y, z"
   ]
  },
  {
   "cell_type": "code",
   "execution_count": 41,
   "metadata": {},
   "outputs": [],
   "source": [
    "def shooting_method(x0, y0, x1, y1, h):\n",
    "    # Задание начального допущения и начальной точности\n",
    "    eps = 0.0001\n",
    "    tt = [1.0, 0.8]\n",
    "    \n",
    "    # Решение уравнения Рунге-Кутты для двух начальных приближений\n",
    "    xn1, yn1, zn1 = runge_kutty_method(y0, tt[0], x0, x1, h)\n",
    "    xn2, yn2, zn2 = runge_kutty_method(y0, tt[1], x0, x1, h)\n",
    "    \n",
    "    y = [yn1[-1], yn2[-1]]\n",
    "    Phi = [abs(yn1[-1] - y1), abs(yn2[-1] - y1)]\n",
    "    i = 1\n",
    "    \n",
    "    # Цикл для нахождения корректного значения начального условия методом секущих\n",
    "    while abs(Phi[i]) > eps:\n",
    "        i += 1\n",
    "        tt.append(tt[i - 1] - ((tt[i - 1] - tt[i - 2]) / (Phi[i - 1] - Phi[i - 2])) * Phi[i - 1])\n",
    "        xni, yni, zni = runge_kutty_method(y0, tt[i], x0, x1, h)\n",
    "        Phi.append(abs(yni[-1] - y1))\n",
    "        y.append(yni[-1])\n",
    "        \n",
    "    return tt, y, Phi, xni, yni"
   ]
  },
  {
   "cell_type": "markdown",
   "metadata": {},
   "source": [
    "Конечно-разностный метод"
   ]
  },
  {
   "cell_type": "code",
   "execution_count": 42,
   "metadata": {},
   "outputs": [],
   "source": [
    "def progon_method(a, b):\n",
    "    n = len(a)\n",
    "    P = np.zeros(n)\n",
    "    Q = np.zeros(n)\n",
    "    \n",
    "    # Вычисление прогоночных коэффициентов P и Q\n",
    "    P[0] = -a[0][1] / a[0][0]\n",
    "    Q[0] = b[0] / a[0][0]\n",
    "    for i in range(1, n):\n",
    "        denominator = a[i][i] + a[i][i - 1] * P[i - 1]\n",
    "        if i == n - 1:\n",
    "            P[i] = 0\n",
    "        else:\n",
    "            P[i] = -a[i][i + 1] / denominator\n",
    "        Q[i] = (b[i] - a[i][i - 1] * Q[i - 1]) / denominator\n",
    "        \n",
    "    x = np.zeros(n)\n",
    "    x[n - 1] = Q[n - 1]\n",
    "    \n",
    "    # Обратный ход для нахождения решения x\n",
    "    for i in range(n - 2, -1, -1):\n",
    "        x[i] = P[i] * x[i + 1] + Q[i]\n",
    "        \n",
    "    return x\n"
   ]
  },
  {
   "cell_type": "code",
   "execution_count": 43,
   "metadata": {},
   "outputs": [],
   "source": [
    "def finite_difference(x0, x1, y0, y1, h):\n",
    "    # Задание сетки x\n",
    "    x = [i for i in np.arange(x0, x1 + h, h)]\n",
    "    A = []\n",
    "    b = []\n",
    "    \n",
    "    # Заполнение матрицы коэффициентов A и вектора правых частей b\n",
    "    for i in range(1, len(x)):\n",
    "        if i == 1:\n",
    "            a = []\n",
    "            a.append(-2 + h * h * q(x[i]))\n",
    "            a.append(1 + p(x[i]) * h / 2)\n",
    "            for j in range(2, len(x)):\n",
    "                a.append(0)\n",
    "            A.append(a)\n",
    "            b.append(h * h * f2(x[i]) - (1 - p(x[i]) * h / 2) * y0)\n",
    "        elif i == len(x) - 1:\n",
    "            a = []\n",
    "            for j in range(1, len(x) - 2):\n",
    "                a.append(0)\n",
    "            a.append(1 - p(x[i]) * h / 2)\n",
    "            a.append(-2 + h * h * q(x[i]))\n",
    "            A.append(a)\n",
    "            b.append(h * h * f2(x[i]) - (1 + p(x[i]) * h / 2) * y1)\n",
    "        else:\n",
    "            a = []\n",
    "            for j in range(1, i - 1):\n",
    "                a.append(0)\n",
    "            a.append(1 - p(x[i]) * h / 2)\n",
    "            a.append(-2 + h * h * q(x[i]))\n",
    "            a.append(1 + p(x[i]) * h / 2)\n",
    "            for j in range(i + 2, len(x)):\n",
    "                a.append(0)\n",
    "            A.append(a)\n",
    "            b.append(h * h * f2(x[i]))\n",
    "            \n",
    "    # Решение системы линейных уравнений методом прогонки\n",
    "    y = progon_method(A, b)\n",
    "    \n",
    "    return x, y"
   ]
  },
  {
   "cell_type": "markdown",
   "metadata": {},
   "source": [
    "Входные данные"
   ]
  },
  {
   "cell_type": "code",
   "execution_count": 44,
   "metadata": {},
   "outputs": [],
   "source": [
    "x0 = 1\n",
    "y0 = 3/2\n",
    "x1 = 2\n",
    "y1 = 13 + 4 * np.log(2)\n",
    "h = (x1 - x0) / 5"
   ]
  },
  {
   "cell_type": "markdown",
   "metadata": {},
   "source": [
    "Вывод метода стрельбы"
   ]
  },
  {
   "cell_type": "code",
   "execution_count": 45,
   "metadata": {},
   "outputs": [
    {
     "name": "stdout",
     "output_type": "stream",
     "text": [
      "╒═════╤═════════╤════════════════╤══════════════╕\n",
      "│   k │    этта │   y(b, y0, tt) │          Phi │\n",
      "╞═════╪═════════╪════════════════╪══════════════╡\n",
      "│   0 │  1      │        2.80123 │ 12.9714      │\n",
      "├─────┼─────────┼────────────────┼──────────────┤\n",
      "│   1 │  0.8    │        2.65942 │ 13.1132      │\n",
      "├─────┼─────────┼────────────────┼──────────────┤\n",
      "│   2 │ 19.2943 │       15.7726  │  7.10543e-15 │\n",
      "╘═════╧═════════╧════════════════╧══════════════╛\n",
      "╒═════╤══════╤══════════╤═════════╕\n",
      "│   k │   xk │       yk │      yf │\n",
      "╞═════╪══════╪══════════╪═════════╡\n",
      "│   0 │  1   │  1.5     │ 5.5     │\n",
      "├─────┼──────┼──────────┼─────────┤\n",
      "│   1 │  1.2 │  4.90507 │ 5.82505 │\n",
      "├─────┼──────┼──────────┼─────────┤\n",
      "│   2 │  1.4 │  7.66365 │ 6.18629 │\n",
      "├─────┼──────┼──────────┼─────────┤\n",
      "│   3 │  1.6 │ 10.0189  │ 6.57101 │\n",
      "├─────┼──────┼──────────┼─────────┤\n",
      "│   4 │  1.8 │ 12.1062  │ 6.97235 │\n",
      "├─────┼──────┼──────────┼─────────┤\n",
      "│   5 │  2   │ 14.0068  │ 7.38629 │\n",
      "├─────┼──────┼──────────┼─────────┤\n",
      "│   6 │  2.2 │ 15.7726  │ 7.81031 │\n",
      "╘═════╧══════╧══════════╧═════════╛\n"
     ]
    }
   ],
   "source": [
    "tt, y, Phi, xni, yni = shooting_method(x0, y0, x1, y1, h)\n",
    "table = [[\"k\", \"этта\", \"y(b, y0, tt)\", \"Phi\"]]\n",
    "table1 = [[\"k\", \"xk\", \"yk\", \"yf\"]]\n",
    "for i in range(len(Phi)):\n",
    "    table.append([i, tt[i],y[i], Phi[i]])\n",
    "for i in range(len(xni)):\n",
    "    table1.append([i, xni[i], yni[i], yf(xni[i])])\n",
    "print(tabulate(table, headers='firstrow', tablefmt='fancy_grid'))\n",
    "print(tabulate(table1, headers='firstrow', tablefmt='fancy_grid'))\n",
    "tt, y, Phi, xni, yni2 = shooting_method(x0, y0, x1, y1, 2*h)\n",
    "tt, y, Phi, xni, yni1 = shooting_method(x0, y0, x1, y1, h)"
   ]
  },
  {
   "cell_type": "markdown",
   "metadata": {},
   "source": [
    "Вывод конечно-разностного метода"
   ]
  },
  {
   "cell_type": "code",
   "execution_count": 46,
   "metadata": {},
   "outputs": [
    {
     "name": "stdout",
     "output_type": "stream",
     "text": [
      "╒═════╤══════╤══════════╤═════════╕\n",
      "│   k │   xk │       yk │      yf │\n",
      "╞═════╪══════╪══════════╪═════════╡\n",
      "│   0 │  1   │  1.5     │ 5.5     │\n",
      "├─────┼──────┼──────────┼─────────┤\n",
      "│   1 │  1.2 │  4.52877 │ 5.82505 │\n",
      "├─────┼──────┼──────────┼─────────┤\n",
      "│   2 │  1.4 │  6.99134 │ 6.18629 │\n",
      "├─────┼──────┼──────────┼─────────┤\n",
      "│   3 │  1.6 │  9.09978 │ 6.57101 │\n",
      "├─────┼──────┼──────────┼─────────┤\n",
      "│   4 │  1.8 │ 10.9726  │ 6.97235 │\n",
      "├─────┼──────┼──────────┼─────────┤\n",
      "│   5 │  2   │ 12.6811  │ 7.38629 │\n",
      "├─────┼──────┼──────────┼─────────┤\n",
      "│   6 │  2.2 │ 14.271   │ 7.81031 │\n",
      "╘═════╧══════╧══════════╧═════════╛\n"
     ]
    }
   ],
   "source": [
    "x, y = finite_difference(x0, x1, y0, y1, h)\n",
    "table = [[\"k\", \"xk\", \"yk\", \"yf\"]]\n",
    "table.append([0, x0, y0, yf(x[0])])\n",
    "\n",
    "for i in range(0, len(y)):\n",
    "    table.append([i+1, x[i+1], y[i], yf(x[i+1])])\n",
    "print(tabulate(table, headers='firstrow', tablefmt='fancy_grid'))\n",
    "\n",
    "x, yk1 = finite_difference(x0, x1, y0, y1, h/2)\n",
    "x, yk2 = finite_difference(x0, x1, y0, y1, h)"
   ]
  },
  {
   "cell_type": "markdown",
   "metadata": {},
   "source": [
    "Оценка погрешности методом Рунге-Ромберга"
   ]
  },
  {
   "cell_type": "code",
   "execution_count": 47,
   "metadata": {},
   "outputs": [
    {
     "name": "stdout",
     "output_type": "stream",
     "text": [
      "╒════════════╤══════════════════════╕\n",
      "│   Стрельбы │   Конечно-Разностный │\n",
      "╞════════════╪══════════════════════╡\n",
      "│    0.38358 │              3.69267 │\n",
      "╘════════════╧══════════════════════╛\n"
     ]
    }
   ],
   "source": [
    "def runge_rom(y1, y2, r, p):\n",
    "    k = -10\n",
    "    for i in range(min(len(y1), len(y2))):\n",
    "        k = max(k, abs((y1[i] - y2[i]) / (r**p - 1))) \n",
    "    return k\n",
    "\n",
    "table = [[\"Стрельбы\", \"Конечно-Разностный\"]]\n",
    "table.append([runge_rom(yni1, yni2, 2, 4), runge_rom(yk1, yk2, 2, 1)])\n",
    "print(tabulate(table, headers='firstrow', tablefmt='fancy_grid'))"
   ]
  }
 ],
 "metadata": {
  "kernelspec": {
   "display_name": "Python 3",
   "language": "python",
   "name": "python3"
  },
  "language_info": {
   "codemirror_mode": {
    "name": "ipython",
    "version": 3
   },
   "file_extension": ".py",
   "mimetype": "text/x-python",
   "name": "python",
   "nbconvert_exporter": "python",
   "pygments_lexer": "ipython3",
   "version": "3.12.1"
  }
 },
 "nbformat": 4,
 "nbformat_minor": 2
}
