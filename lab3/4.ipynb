{
 "cells": [
  {
   "cell_type": "markdown",
   "metadata": {},
   "source": [
    "Данные согласно варианту"
   ]
  },
  {
   "cell_type": "code",
   "execution_count": 9,
   "metadata": {},
   "outputs": [],
   "source": [
    "x = [0.0, 1.0, 2.0, 3.0, 4.0]\n",
    "y = [0.0, 0.86603, 1.0, 0.0, -2.0]\n",
    "x_star = 2.0"
   ]
  },
  {
   "cell_type": "markdown",
   "metadata": {},
   "source": [
    "Первая производная, первый порядок точности"
   ]
  },
  {
   "cell_type": "code",
   "execution_count": 10,
   "metadata": {},
   "outputs": [
    {
     "name": "stdout",
     "output_type": "stream",
     "text": [
      "Левосторонняя 0.134\n",
      "Правосторонняя -1.0\n",
      "Полусумма левосторонней и правосторонней -0.433\n"
     ]
    }
   ],
   "source": [
    "y_1_left = (y[2] - y[1]) / (x[2] - x[1])\n",
    "y_1_right = (y[3] - y[2]) / (x[3] - x[2])\n",
    "\n",
    "print(\"Левосторонняя\", round(y_1_left, 4))\n",
    "print(\"Правосторонняя\", round(y_1_right, 4))\n",
    "print(\"Полусумма левосторонней и правосторонней\", round(0.5 * (y_1_left + y_1_right), 4))"
   ]
  },
  {
   "cell_type": "markdown",
   "metadata": {},
   "source": [
    "Первая производная, второй порядок точности"
   ]
  },
  {
   "cell_type": "code",
   "execution_count": 11,
   "metadata": {},
   "outputs": [
    {
     "name": "stdout",
     "output_type": "stream",
     "text": [
      "Первая производная со 2 порядком точности -0.433\n"
     ]
    }
   ],
   "source": [
    "y_1_2 = y_1_left + (2 * x_star - x[1] - x[2]) * (y_1_right - y_1_left)/(x[3] - x[1])\n",
    "\n",
    "print(\"Первая производная со 2 порядком точности\", round(y_1_2, 4))"
   ]
  },
  {
   "cell_type": "markdown",
   "metadata": {},
   "source": [
    "Вторая производная"
   ]
  },
  {
   "cell_type": "code",
   "execution_count": 12,
   "metadata": {},
   "outputs": [
    {
     "name": "stdout",
     "output_type": "stream",
     "text": [
      "Вторая производная -1.134\n"
     ]
    }
   ],
   "source": [
    "y_2 = 2 * (y_1_right - y_1_left)/(x[3] - x[1])\n",
    "\n",
    "print(\"Вторая производная\", round(y_2, 4))"
   ]
  }
 ],
 "metadata": {
  "kernelspec": {
   "display_name": "Python 3",
   "language": "python",
   "name": "python3"
  },
  "language_info": {
   "codemirror_mode": {
    "name": "ipython",
    "version": 3
   },
   "file_extension": ".py",
   "mimetype": "text/x-python",
   "name": "python",
   "nbconvert_exporter": "python",
   "pygments_lexer": "ipython3",
   "version": "3.12.1"
  }
 },
 "nbformat": 4,
 "nbformat_minor": 2
}
