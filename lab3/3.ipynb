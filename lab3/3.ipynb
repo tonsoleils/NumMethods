{
 "cells": [
  {
   "cell_type": "code",
   "execution_count": 16,
   "metadata": {},
   "outputs": [],
   "source": [
    "import numpy as np\n",
    "import matplotlib.pyplot as plt\n",
    "from copy import deepcopy"
   ]
  },
  {
   "cell_type": "markdown",
   "metadata": {},
   "source": [
    "Функция для LU-разложения матрицы"
   ]
  },
  {
   "cell_type": "code",
   "execution_count": 17,
   "metadata": {},
   "outputs": [],
   "source": [
    "def decompose_to_LU(a):\n",
    "    \"\"\"\n",
    "    Выполняет LU-разложение матрицы a.\n",
    "    \n",
    "    Параметры:\n",
    "    a - квадратная матрица, которую нужно разложить на LU.\n",
    "    \n",
    "    Возвращает:\n",
    "    Матрицу lu, содержащую как нижнюю (L), так и верхнюю (U) треугольные матрицы.\n",
    "    \"\"\"\n",
    "    # Инициализация нулевой матрицы для хранения LU-разложения\n",
    "    lu = np.matrix(np.zeros([a.shape[0], a.shape[1]]))\n",
    "    n = a.shape[0]  # Размерность матрицы a\n",
    "\n",
    "    # Заполнение матрицы LU\n",
    "    for k in range(n):\n",
    "        # Вычисление элементов верхней треугольной матрицы U\n",
    "        for j in range(k, n):\n",
    "            lu[k, j] = a[k, j] - lu[k, :k] * lu[:k, j]\n",
    "        # Вычисление элементов нижней треугольной матрицы L\n",
    "        for i in range(k + 1, n):\n",
    "            lu[i, k] = (a[i, k] - lu[i, :k] * lu[:k, k]) / lu[k, k]\n",
    "\n",
    "    return lu\n"
   ]
  },
  {
   "cell_type": "markdown",
   "metadata": {},
   "source": [
    "Функция для решения системы уравнений с использованием LU-разложения"
   ]
  },
  {
   "cell_type": "code",
   "execution_count": 18,
   "metadata": {},
   "outputs": [],
   "source": [
    "def solve(lu, b):\n",
    "    \"\"\"\n",
    "    Решает систему линейных уравнений Ax = b с использованием LU-разложения.\n",
    "    \n",
    "    Параметры:\n",
    "    lu - матрица, содержащая LU-разложение матрицы A.\n",
    "    b - вектор свободных членов.\n",
    "    \n",
    "    Возвращает:\n",
    "    Вектор x, являющийся решением системы.\n",
    "    \"\"\"\n",
    "    n = lu.shape[0]\n",
    "    y = np.zeros([n, 1])\n",
    "    x = np.zeros([n, 1])\n",
    "\n",
    "    # Решение системы Ly = b методом прямой подстановки\n",
    "    for i in range(n):\n",
    "        y[i] = b[i] - np.dot(lu[i, :i], y[:i])\n",
    "\n",
    "    # Решение системы Ux = y методом обратной подстановки\n",
    "    for i in range(n - 1, -1, -1):\n",
    "        x[i] = (y[i] - np.dot(lu[i, i+1:], x[i+1:])) / lu[i, i]\n",
    "\n",
    "    return np.matrix(x)"
   ]
  },
  {
   "cell_type": "markdown",
   "metadata": {},
   "source": [
    "Функция для построения полинома методом наименьших квадратов"
   ]
  },
  {
   "cell_type": "code",
   "execution_count": 19,
   "metadata": {},
   "outputs": [],
   "source": [
    "def fun(m, x, y):\n",
    "    \"\"\"\n",
    "    Строит полином степени m методом наименьших квадратов.\n",
    "    \n",
    "    Параметры:\n",
    "    m - степень полинома.\n",
    "    x - массив значений x.\n",
    "    y - массив значений y.\n",
    "    \n",
    "    Возвращает:\n",
    "    Коэффициенты полинома a, строковое представление полинома polinom, матрицу phi.\n",
    "    \"\"\"\n",
    "    # Создание матрицы Вандермонда phi\n",
    "    phi = np.zeros((len(x), m+1))\n",
    "    phi[:,] = 1\n",
    "    for i in range(m+1):\n",
    "        phi[:, i] = x**(i)\n",
    "\n",
    "    # Транспонирование матрицы phi\n",
    "    phi_T = phi.T\n",
    "\n",
    "    # Вычисление матрицы phi_T * phi\n",
    "    phi_T_phi = np.dot(phi_T, phi)\n",
    "\n",
    "    # LU-разложение матрицы phi_T * phi\n",
    "    lu = decompose_to_LU(phi_T_phi)\n",
    "\n",
    "    # Вычисление матрицы phi_T * y\n",
    "    phi_T_y = np.dot(phi_T, y)\n",
    "\n",
    "    # Решение системы для нахождения коэффициентов полинома a\n",
    "    a = solve(lu, phi_T_y)\n",
    "\n",
    "    # Формирование строкового представления полинома\n",
    "    polinom = f\"\"\n",
    "    for i in range(m + 1):\n",
    "        if i == 0:\n",
    "            polinom += f\"{a[i, 0]:.4f}\"\n",
    "        else:\n",
    "            polinom += f\" + {a[i, 0]:.4f} * x^{i}\"\n",
    "\n",
    "    return a, polinom, phi\n",
    "\n"
   ]
  },
  {
   "cell_type": "markdown",
   "metadata": {},
   "source": [
    "Входные данные"
   ]
  },
  {
   "cell_type": "code",
   "execution_count": 20,
   "metadata": {},
   "outputs": [],
   "source": [
    "x = np.array([0.1, 0.5, 0.9, 1.3, 1.7, 2.1])\n",
    "y = np.array([100.01, 4.250, 2.0446, 2.2817, 3.236, 4.6368])"
   ]
  },
  {
   "cell_type": "markdown",
   "metadata": {},
   "source": [
    "Найдем полиномы"
   ]
  },
  {
   "cell_type": "code",
   "execution_count": 21,
   "metadata": {},
   "outputs": [
    {
     "name": "stdout",
     "output_type": "stream",
     "text": [
      "Полином первой степени 57.0983 + -34.2622 * x^1\n",
      "Полином второй степени 98.4497 + -156.6477 * x^1 + 55.6298 * x^2\n"
     ]
    },
    {
     "name": "stderr",
     "output_type": "stream",
     "text": [
      "C:\\Users\\mmaxi\\AppData\\Local\\Temp\\ipykernel_12496\\4139394123.py:19: DeprecationWarning: Conversion of an array with ndim > 0 to a scalar is deprecated, and will error in future. Ensure you extract a single element from your array before performing this operation. (Deprecated NumPy 1.25.)\n",
      "  lu[k, j] = a[k, j] - lu[k, :k] * lu[:k, j]\n",
      "C:\\Users\\mmaxi\\AppData\\Local\\Temp\\ipykernel_12496\\4139394123.py:22: DeprecationWarning: Conversion of an array with ndim > 0 to a scalar is deprecated, and will error in future. Ensure you extract a single element from your array before performing this operation. (Deprecated NumPy 1.25.)\n",
      "  lu[i, k] = (a[i, k] - lu[i, :k] * lu[:k, k]) / lu[k, k]\n"
     ]
    }
   ],
   "source": [
    "A1, pol1, phi1 = fun(1, x, y)\n",
    "A2, pol2, phi2 = fun(2, x, y)\n",
    "\n",
    "print(\"Полином первой степени\", pol1)\n",
    "print(\"Полином второй степени\", pol2)"
   ]
  },
  {
   "cell_type": "markdown",
   "metadata": {},
   "source": [
    "Построим графики"
   ]
  },
  {
   "cell_type": "code",
   "execution_count": 22,
   "metadata": {},
   "outputs": [
    {
     "data": {
      "image/png": "[encoded data removed]",
      "text/plain": [
       "<Figure size 800x600 with 1 Axes>"
      ]
     },
     "metadata": {},
     "output_type": "display_data"
    }
   ],
   "source": [
    "# Построение графиков\n",
    "fig, ax = plt.subplots(figsize=(8, 6))\n",
    "ax.scatter(x, y, color='red', label='Табличные данные')\n",
    "\n",
    "# Линия для полинома первой степени\n",
    "x_line = np.linspace(min(x), max(x), 100)\n",
    "y_line = A1[0,0] + A1[1,0] * x_line\n",
    "ax.plot(x_line, y_line, 'b--', label='Полином 1-й степени')\n",
    "\n",
    "# Линия для полинома второй степени\n",
    "y_poly = A2[0,0] + A2[1,0] * x_line + A2[2,0] * x_line**2\n",
    "ax.plot(x_line, y_poly, 'g--', label='Полином 2-й степени')\n",
    "\n",
    "ax.set_xlabel('X')\n",
    "ax.set_ylabel('Y')\n",
    "ax.legend()\n",
    "\n",
    "plt.show()\n"
   ]
  },
  {
   "cell_type": "markdown",
   "metadata": {},
   "source": [
    "Сумма квадратов ошибок"
   ]
  },
  {
   "cell_type": "code",
   "execution_count": 23,
   "metadata": {},
   "outputs": [],
   "source": [
    "# Функция для вычисления суммы квадратов ошибок\n",
    "def er(phi, a, y):\n",
    "    \"\"\"\n",
    "    Вычисляет сумму квадратов ошибок между предсказанными и реальными значениями.\n",
    "    \n",
    "    Параметры:\n",
    "    phi - матрица Вандермонда.\n",
    "    a - вектор коэффициентов полинома.\n",
    "    y - вектор реальных значений.\n",
    "    \n",
    "    Возвращает:\n",
    "    Сумму квадратов ошибок.\n",
    "    \"\"\"\n",
    "    phi_a = np.dot(phi, a)\n",
    "    norm = np.linalg.norm((phi_a - y.reshape(-1, 1)))**2\n",
    "    return norm"
   ]
  },
  {
   "cell_type": "code",
   "execution_count": 24,
   "metadata": {},
   "outputs": [
    {
     "name": "stdout",
     "output_type": "stream",
     "text": [
      "Сумма квадратов ошибки для 1 степени: 4514.050344914859\n",
      "Сумма квадратов ошибки для 2 степени: 1556.3690964405716\n"
     ]
    }
   ],
   "source": [
    "# Вычисление и вывод суммы квадратов ошибок для полиномов первой и второй степени\n",
    "print(\"Сумма квадратов ошибки для 1 степени:\", er(phi1, A1, y))\n",
    "print(\"Сумма квадратов ошибки для 2 степени:\", er(phi2, A2, y))"
   ]
  },
  {
   "cell_type": "markdown",
   "metadata": {},
   "source": [
    "Полученные ошибки и график сначала испугали меня, и я подумала, что я допустила где-то ошибку. Но внимательно проанализировав результаты, можно сделать вывод, что полиндромы пытаются аппроксимировать приближаемую функцию, но первая точка со значением 100.01 очень сильно \"выбивается\" от остальных."
   ]
  },
  {
   "cell_type": "markdown",
   "metadata": {},
   "source": [
    "Как и ожидалось, полином второй степени лучше аппроксимирует данные, что и приводит к меньшей сумме квадратов ошибок."
   ]
  }
 ],
 "metadata": {
  "kernelspec": {
   "display_name": "Python 3",
   "language": "python",
   "name": "python3"
  },
  "language_info": {
   "codemirror_mode": {
    "name": "ipython",
    "version": 3
   },
   "file_extension": ".py",
   "mimetype": "text/x-python",
   "name": "python",
   "nbconvert_exporter": "python",
   "pygments_lexer": "ipython3",
   "version": "3.12.1"
  }
 },
 "nbformat": 4,
 "nbformat_minor": 2
}
