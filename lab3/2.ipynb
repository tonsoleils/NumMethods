{
 "cells": [
  {
   "cell_type": "code",
   "execution_count": 19,
   "metadata": {},
   "outputs": [],
   "source": [
    "import numpy as np\n",
    "import matplotlib.pyplot as plt\n",
    "from tabulate import tabulate"
   ]
  },
  {
   "cell_type": "markdown",
   "metadata": {},
   "source": [
    "Функции нахождения значения S()"
   ]
  },
  {
   "cell_type": "code",
   "execution_count": 20,
   "metadata": {},
   "outputs": [],
   "source": [
    "def s(a, b, c, d, x):\n",
    "    \"\"\"\n",
    "    Вычисляет значение кубического полинома S в точке x.\n",
    "    \n",
    "    Params:\n",
    "    a, b, c, d - коэффициенты полинома.\n",
    "    x - значение, в котором нужно вычислить полином.\n",
    "    \n",
    "    Return:\n",
    "    Значение полинома S в точке x.\n",
    "    \"\"\"\n",
    "    return a + b * x + c * x**2 + d * x**3\n"
   ]
  },
  {
   "cell_type": "markdown",
   "metadata": {},
   "source": [
    "Функция решения системы"
   ]
  },
  {
   "cell_type": "code",
   "execution_count": 21,
   "metadata": {},
   "outputs": [],
   "source": [
    "def tridiagonal_solve(A, b):\n",
    "    \"\"\"\n",
    "    Решает систему линейных уравнений с трёхдиагональной матрицей методом прогонки.\n",
    "    \n",
    "    Params:\n",
    "    A - трёхдиагональная матрица коэффициентов системы.\n",
    "    b - вектор свободных членов.\n",
    "    \n",
    "    Return:\n",
    "    Вектор x, являющийся решением системы Ax = b.\n",
    "    \"\"\"\n",
    "    n = len(A)\n",
    "    v = [0 for _ in range(n)]\n",
    "    u = [0 for _ in range(n)]\n",
    "    \n",
    "    # Прямой ход метода прогонки\n",
    "    v[0] = A[0][1] / -A[0][0]\n",
    "    u[0] = b[0] / A[0][0]\n",
    "    for i in range(1, n-1):\n",
    "        v[i] = A[i][2] / (-A[i][1] - A[i][0] * v[i-1])\n",
    "        u[i] = (A[i][0] * u[i-1] - b[i]) / (-A[i][1] - A[i][0] * v[i-1])\n",
    "    \n",
    "    v[n-1] = 0\n",
    "    u[n-1] = (A[n-1][1] * u[n-2] - b[n-1]) / (-A[n-1][2] - A[n-1][1] * v[n-2])\n",
    "    \n",
    "    # Обратный ход метода прогонки\n",
    "    x = [0 for _ in range(n)]\n",
    "    x[n-1] = u[n-1]\n",
    "    for i in range(n-1, 0, -1):\n",
    "        x[i-1] = v[i-1] * x[i] + u[i-1]\n",
    "\n",
    "    return x\n",
    "    "
   ]
  },
  {
   "cell_type": "markdown",
   "metadata": {},
   "source": [
    "Функция вычисления коэффициентов кубического сплайна"
   ]
  },
  {
   "cell_type": "code",
   "execution_count": 22,
   "metadata": {},
   "outputs": [],
   "source": [
    "def spline_interpolation(x_i, f_i, x_star):\n",
    "    \"\"\"\n",
    "    Вычисляет значения коэффициентов кубического сплайна и значение сплайна в точке x_star.\n",
    "    \n",
    "    Параметры:\n",
    "    x_i - узлы интерполяции.\n",
    "    f_i - значения функции в узлах интерполяции.\n",
    "    x_star - точка, в которой нужно вычислить значение сплайна.\n",
    "    \n",
    "    Возвращает:\n",
    "    Коэффициенты сплайна a, b, c, d и значение сплайна в точке x_star.\n",
    "    \"\"\"\n",
    "    assert len(x_i) == len(f_i)\n",
    "    n = len(x_i)\n",
    "    \n",
    "    # Вычисление шагов h\n",
    "    h = [x_i[i] - x_i[i - 1] for i in range(1, len(x_i))]\n",
    "    \n",
    "    # Инициализация матрицы A для системы уравнений\n",
    "    A = [[0 for _ in range(len(h)-1)] for _ in range(len(h)-1)]\n",
    "    A[0][0] = 2 * (h[0] + h[1])\n",
    "    A[0][1] = h[1]\n",
    "    for i in range(1, len(A) - 1):\n",
    "        A[i][0] = h[i-1]\n",
    "        A[i][1] = 2 * (h[i-1] + h[i])\n",
    "        A[i][2] = h[i]\n",
    "    A[-1][-2] = h[-2]\n",
    "    A[-1][-1] = 2 * (h[-2] + h[-1])\n",
    "    \n",
    "    # Вычисление вектора m\n",
    "    m = [3.0 * ((f_i[i+1] - f_i[i]) / h[i] - (f_i[i] - f_i[i-1]) / h[i-1])\n",
    "         for i in range(1, len(h))]\n",
    "    \n",
    "    # Решение системы уравнений для нахождения коэффициентов c\n",
    "    c = [0] + tridiagonal_solve(A, m)\n",
    "    \n",
    "    # Вычисление коэффициентов a\n",
    "    a = [f_i[i - 1] for i in range(1, n)]\n",
    "    \n",
    "    # Вычисление коэффициентов b\n",
    "    b = [(f_i[i] - f_i[i-1]) / h[i-1] - (h[i-1] / 3.0) * (2.0 * c[i-1] + c[i])\n",
    "         for i in range(1, len(h))]\n",
    "    b.append((f_i[-1] - f_i[-2]) / h[-1] - (2.0 * h[-1] * c[-1]) / 3.0)\n",
    "    \n",
    "    # Вычисление коэффициентов d\n",
    "    d = [(c[i] - c[i-1]) / (3.0 * h[i-1]) for i in range(1, len(h))]\n",
    "    d.append(-c[-1] / (3.0 * h[-1]))\n",
    "    \n",
    "    # Нахождение интервала, которому принадлежит x_star\n",
    "    for interval in range(len(x_i)):\n",
    "        if x_i[interval] <= x_star < x_i[interval + 1]:\n",
    "            i = interval\n",
    "            break\n",
    "    \n",
    "    # Вычисление значения сплайна в точке x_star\n",
    "    y_test = s(a[i + 1], b[i + 1], c[i + 1], d[i + 1], x_star - x_i[i])\n",
    "    \n",
    "    return a, b, c, d, y_test"
   ]
  },
  {
   "cell_type": "markdown",
   "metadata": {},
   "source": [
    "Функция отрисовки графика кубического сплайна"
   ]
  },
  {
   "cell_type": "code",
   "execution_count": 23,
   "metadata": {},
   "outputs": [],
   "source": [
    "\n",
    "def draw_plot(x_original, f_original, a, b, c, d):\n",
    "    \"\"\"\n",
    "    Строит график кубического сплайна и оригинальных данных.\n",
    "    \n",
    "    Params:\n",
    "    x_original - узлы интерполяции.\n",
    "    f_original - значения функции в узлах интерполяции.\n",
    "    a, b, c, d - коэффициенты кубических сплайнов для каждого интервала.\n",
    "    \"\"\"\n",
    "    x, y = [], []\n",
    "    for i in range(len(x_original) - 1):\n",
    "        # Генерация значений x для текущего интервала\n",
    "        x1 = np.linspace(x_original[i], x_original[i + 1], 10)\n",
    "        # Вычисление значений y для текущего интервала с использованием функции s()\n",
    "        y1 = [s(a[i], b[i], c[i], d[i], j - x_original[i]) for j in x1]\n",
    "        x.append(x1)\n",
    "        y.append(y1)\n",
    "\n",
    "    # Построение графика\n",
    "    plt.scatter(x_original, f_original, color='r')  # Оригинальные данные\n",
    "    for i in range(len(x_original) - 1):\n",
    "        plt.plot(x[i], y[i], color='b')  # Кубический сплайн\n",
    "    plt.show()"
   ]
  },
  {
   "cell_type": "markdown",
   "metadata": {},
   "source": [
    "Данные согласно варианту"
   ]
  },
  {
   "cell_type": "code",
   "execution_count": 24,
   "metadata": {},
   "outputs": [],
   "source": [
    "x_i = [0.1, 0.5, 0.9, 1.3, 1.7]\n",
    "f_i = [100.01, 4.2500, 2.0446, 2.2817, 3.2360]\n",
    "x_star = 0.8"
   ]
  },
  {
   "cell_type": "markdown",
   "metadata": {},
   "source": [
    "Решение"
   ]
  },
  {
   "cell_type": "code",
   "execution_count": 25,
   "metadata": {},
   "outputs": [
    {
     "name": "stdout",
     "output_type": "stream",
     "text": [
      "╒══════════╤════════════╤═══════════╤═══════════╕\n",
      "│        a │          b │         c │         d │\n",
      "╞══════════╪════════════╪═══════════╪═══════════╡\n",
      "│ 100.01   │ -301.644   │    0      │  389.025  │\n",
      "├──────────┼────────────┼───────────┼───────────┤\n",
      "│   4.25   │ -114.912   │  466.83   │ -483.335  │\n",
      "├──────────┼────────────┼───────────┼───────────┤\n",
      "│   2.0446 │   26.5513  │ -113.172  │  120.689  │\n",
      "├──────────┼────────────┼───────────┼───────────┤\n",
      "│   2.2817 │   -6.05555 │   31.6549 │  -26.3791 │\n",
      "╘══════════╧════════════╧═══════════╧═══════════╛\n"
     ]
    }
   ],
   "source": [
    "a, b, c, d, y = spline_interpolation(x_i, f_i, x_star)\n",
    "table = [['a', 'b', 'c', 'd']]\n",
    "for i in range(len(a)):\n",
    "    table.append([a[i], b[i], c[i], d[i]])\n",
    "print(tabulate(table, headers='firstrow', tablefmt='fancy_grid'))"
   ]
  },
  {
   "cell_type": "markdown",
   "metadata": {},
   "source": [
    "Полиномы"
   ]
  },
  {
   "cell_type": "code",
   "execution_count": 26,
   "metadata": {},
   "outputs": [
    {
     "name": "stdout",
     "output_type": "stream",
     "text": [
      "[0.1; 0.5)\n",
      "s(x) = 100.01+-301.6440(x-0.1)+0.0000(x-0.1)^2+389.0252(x-0.1)^3\n",
      "[0.5; 0.9)\n",
      "s(x) = 4.25+-114.9119(x-0.5)+466.8302(x-0.5)^2+-483.3352(x-0.5)^3\n",
      "[0.9; 1.3)\n",
      "s(x) = 2.0446+26.5513(x-0.9)+-113.1721(x-0.9)^2+120.6891(x-0.9)^3\n",
      "[1.3; 1.7)\n",
      "s(x) = 2.2817+-6.0556(x-1.3)+31.6549(x-1.3)^2+-26.3791(x-1.3)^3\n",
      "s(x*) = s(0.8) = 3.0831\n",
      "\n"
     ]
    }
   ],
   "source": [
    "for i in range(len(x_i) - 1):\n",
    "    print(f'[{x_i[i]}; {x_i[i+1]})')\n",
    "    polynom = f's(x) = {a[i]:}+{b[i]:.4f}(x-{x_i[i]})+' f'{c[i]:.4f}(x-{x_i[i]})^2+{d[i]:.4f}(x-{x_i[i]})^3'\n",
    "    print(polynom)\n",
    "print(f's(x*) = s({x_star}) = {y:.4f}', end='\\n\\n')"
   ]
  },
  {
   "cell_type": "markdown",
   "metadata": {},
   "source": [
    "Построение кубического сплайна"
   ]
  },
  {
   "cell_type": "code",
   "execution_count": 27,
   "metadata": {},
   "outputs": [
    {
     "data": {
      "image/png": "[encoded data removed]",
      "text/plain": [
       "<Figure size 640x480 with 1 Axes>"
      ]
     },
     "metadata": {},
     "output_type": "display_data"
    }
   ],
   "source": [
    "draw_plot(x_i, f_i, a, b, c, d)"
   ]
  }
 ],
 "metadata": {
  "kernelspec": {
   "display_name": "Python 3",
   "language": "python",
   "name": "python3"
  },
  "language_info": {
   "codemirror_mode": {
    "name": "ipython",
    "version": 3
   },
   "file_extension": ".py",
   "mimetype": "text/x-python",
   "name": "python",
   "nbconvert_exporter": "python",
   "pygments_lexer": "ipython3",
   "version": "3.12.1"
  }
 },
 "nbformat": 4,
 "nbformat_minor": 2
}
