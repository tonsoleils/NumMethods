{
 "cells": [
  {
   "cell_type": "code",
   "execution_count": 9,
   "metadata": {},
   "outputs": [],
   "source": [
    "import numpy as np\n",
    "from tabulate import tabulate"
   ]
  },
  {
   "cell_type": "markdown",
   "metadata": {},
   "source": [
    "Функции нахождения интерполяционных многочленов Лагранжа и Ньютона"
   ]
  },
  {
   "cell_type": "code",
   "execution_count": 10,
   "metadata": {},
   "outputs": [],
   "source": [
    "def lagrange_polynomial(x, x_data, y_data):\n",
    "    # Количество данных точек\n",
    "    n = len(x_data)\n",
    "    # Начальное значение результата интерполяционного многочлена\n",
    "    result = 0\n",
    "    # Список для хранения значений омеги\n",
    "    omega = []\n",
    "    table = [['i', 'xi', 'fi', 'omega i', 'fi/omegai']]\n",
    "    # Строка для представления многочлена Лагранжа\n",
    "    lagrange_polynomial_str = \"\"\n",
    "    # Список для хранения отдельных членов многочлена Лагранжа\n",
    "    lagrange_terms = []\n",
    "\n",
    "    # Основной цикл по всем узлам интерполяции\n",
    "    for i in range(n):\n",
    "        res = 1\n",
    "        for j in range(n):\n",
    "            if j != i:\n",
    "                res *= (x_data[i] - x_data[j])\n",
    "        # Добавление вычисленного значения омеги в список\n",
    "        omega.append(res)\n",
    "        # Формирование строки для текущего члена многочлена Лагранжа\n",
    "        if y_data[i]/omega[i] > 0 and i!=0:\n",
    "            lagrange_polynomial_str += f\"+\"\n",
    "        lagrange_polynomial_str += f\"{round(y_data[i]/omega[i], 3)} * (x - {x_data[i]})\"\n",
    "        res = y_data[i]/omega[i]\n",
    "        for j in range(n):\n",
    "            if j != i:\n",
    "                res *= (x - x_data[j])\n",
    "        # Добавление текущего члена в итоговый результат\n",
    "        result += res\n",
    "        # Добавление данных в таблицу\n",
    "        table.append([i, x_data[i], round(y_data[i],3), round(omega[i],3), round(y_data[i]/omega[i], 3)])\n",
    "\n",
    "    # Печать таблицы с данными\n",
    "    print(tabulate(table, headers='firstrow', tablefmt='fancy_grid'))\n",
    "    return result, lagrange_polynomial_str"
   ]
  },
  {
   "cell_type": "code",
   "execution_count": 11,
   "metadata": {},
   "outputs": [],
   "source": [
    "def newton_polynomial(x, x_data, y_data):\n",
    "    # Количество данных точек\n",
    "    n = len(x_data)\n",
    "    # Начальное значение результата интерполяционного многочлена\n",
    "    result = 0\n",
    "    # Таблицы для визуализации данных\n",
    "    table = [['i', 'xi', 'fi']]\n",
    "    table2 = [['f2']]\n",
    "    table3 = [['f3']]\n",
    "    table4 = [['f4']]\n",
    "    # Строка для представления многочлена Ньютона\n",
    "    newton_term = f\"\"\n",
    "    # Списки для хранения значений конечных разностей\n",
    "    f2 = []\n",
    "    f3 = []\n",
    "    f4 = []\n",
    "\n",
    "    # Заполнение таблицы исходными данными\n",
    "    for i in range(n):\n",
    "        table.append([i, x_data[i], round(y_data[i],3)])\n",
    "    \n",
    "    # Вычисление первых конечных разностей и заполнение таблицы\n",
    "    for j in range(n - 1):\n",
    "        f2.append((y_data[j] - y_data[j + 1])/ (x_data[j] - x_data[j + 1]))\n",
    "        table2.append([f2[j]])\n",
    "    \n",
    "    # Вычисление вторых конечных разностей и заполнение таблицы\n",
    "    for j in range(n - 2):\n",
    "        f3.append((f2[j] - f2[j + 1])/ (x_data[j] - x_data[j + 2]))\n",
    "        table3.append([f3[j]])\n",
    "    \n",
    "    # Вычисление третьих конечных разностей и заполнение таблицы\n",
    "    for j in range(n - 3):\n",
    "        f4.append((f3[j] - f3[j + 1])/ (x_data[j] - x_data[j + 3]))\n",
    "        table4.append([f4[j]])\n",
    "    \n",
    "    # Печать таблиц с данными\n",
    "    print(tabulate(table, headers='firstrow', tablefmt='fancy_grid'))\n",
    "    print(tabulate(table2, headers='firstrow', tablefmt='fancy_grid'))\n",
    "    print(tabulate(table3, headers='firstrow', tablefmt='fancy_grid'))\n",
    "    print(tabulate(table4, headers='firstrow', tablefmt='fancy_grid'))\n",
    "    \n",
    "    # Вычисление значения интерполяционного многочлена в точке x\n",
    "    result = y_data[0] + (x - x_data[0]) * f2[0] + (x - x_data[0]) * (x - x_data[1]) * f3[0] + (x - x_data[0]) * (x - x_data[1]) * (x - x_data[2]) * f4[0]\n",
    "    # Формирование строки для представления многочлена Ньютона\n",
    "    newton_term += f\"{round(y_data[0], 3)} + {round(f2[0], 3)} * (x - {x_data[0]}) + {round(f3[0],3)} * (x - {x_data[0]}) * (x - {x_data[1]}) + {round(f4[0], 3)} * (x - {x_data[0]}) * (x - {x_data[1]}) * (x - {x_data[2]})\"\n",
    "    \n",
    "    return result, newton_term"
   ]
  },
  {
   "cell_type": "markdown",
   "metadata": {},
   "source": [
    "Функция"
   ]
  },
  {
   "cell_type": "code",
   "execution_count": 12,
   "metadata": {},
   "outputs": [],
   "source": [
    "def function(x):\n",
    "    return (1 / (np.power(x, 2))) + np.power(x, 2)"
   ]
  },
  {
   "cell_type": "markdown",
   "metadata": {},
   "source": [
    "Значения для пункта \"А\""
   ]
  },
  {
   "cell_type": "code",
   "execution_count": 13,
   "metadata": {},
   "outputs": [],
   "source": [
    "x_data = np.array([0.1, 0.5, 0.9, 1.3])\n",
    "y_data = function(x_data)\n",
    "x_star = 0.8\n",
    "\n",
    "true_value = function(x_star)\n"
   ]
  },
  {
   "cell_type": "markdown",
   "metadata": {},
   "source": [
    "Интерполяционный многочлен Лагранжа"
   ]
  },
  {
   "cell_type": "code",
   "execution_count": 14,
   "metadata": {},
   "outputs": [
    {
     "name": "stdout",
     "output_type": "stream",
     "text": [
      "╒═════╤══════╤═════════╤═══════════╤═════════════╕\n",
      "│   i │   xi │      fi │   omega i │   fi/omegai │\n",
      "╞═════╪══════╪═════════╪═══════════╪═════════════╡\n",
      "│   0 │  0.1 │ 100.01  │    -0.384 │    -260.443 │\n",
      "├─────┼──────┼─────────┼───────────┼─────────────┤\n",
      "│   1 │  0.5 │   4.25  │     0.128 │      33.203 │\n",
      "├─────┼──────┼─────────┼───────────┼─────────────┤\n",
      "│   2 │  0.9 │   2.045 │    -0.128 │     -15.973 │\n",
      "├─────┼──────┼─────────┼───────────┼─────────────┤\n",
      "│   3 │  1.3 │   2.282 │     0.384 │       5.942 │\n",
      "╘═════╧══════╧═════════╧═══════════╧═════════════╛\n",
      "Значение функции в точке x* = 0.8: 2.2024999999999997\n",
      "Многочлен Лагранжа: -260.443 * (x - 0.1)+33.203 * (x - 0.5)-15.973 * (x - 0.9)+5.942 * (x - 1.3)\n",
      "Значение многочлена Лагранжа в точке x* = 0.8: -1.1921279859741385\n",
      "Погрешность интерполяции Лагранжа: 3.394627985974138\n"
     ]
    }
   ],
   "source": [
    "lagrange_value, lagrange_polynomial_str = lagrange_polynomial(x_star, x_data, y_data)\n",
    "lagrange_error = abs(true_value - lagrange_value)\n",
    "print(f\"Значение функции в точке x* = {x_star}: {true_value}\")\n",
    "print(f\"Многочлен Лагранжа: {lagrange_polynomial_str}\")\n",
    "print(f\"Значение многочлена Лагранжа в точке x* = {x_star}: {lagrange_value}\")\n",
    "print(f\"Погрешность интерполяции Лагранжа: {lagrange_error}\")"
   ]
  },
  {
   "cell_type": "markdown",
   "metadata": {},
   "source": [
    "Интерполяционный многочлен Ньютона\n"
   ]
  },
  {
   "cell_type": "code",
   "execution_count": 15,
   "metadata": {},
   "outputs": [
    {
     "name": "stdout",
     "output_type": "stream",
     "text": [
      "╒═════╤══════╤═════════╕\n",
      "│   i │   xi │      fi │\n",
      "╞═════╪══════╪═════════╡\n",
      "│   0 │  0.1 │ 100.01  │\n",
      "├─────┼──────┼─────────┤\n",
      "│   1 │  0.5 │   4.25  │\n",
      "├─────┼──────┼─────────┤\n",
      "│   2 │  0.9 │   2.045 │\n",
      "├─────┼──────┼─────────┤\n",
      "│   3 │  1.3 │   2.282 │\n",
      "╘═════╧══════╧═════════╛\n",
      "╒════════════╕\n",
      "│         f2 │\n",
      "╞════════════╡\n",
      "│ -239.4     │\n",
      "├────────────┤\n",
      "│   -5.51358 │\n",
      "├────────────┤\n",
      "│    0.59287 │\n",
      "╘════════════╛\n",
      "╒═══════════╕\n",
      "│        f3 │\n",
      "╞═══════════╡\n",
      "│ 292.358   │\n",
      "├───────────┤\n",
      "│   7.63306 │\n",
      "╘═══════════╛\n",
      "╒══════════╕\n",
      "│       f4 │\n",
      "╞══════════╡\n",
      "│ -237.271 │\n",
      "╘══════════╛\n",
      "Многочлен Ньютона: 100.01 + -239.4 * (x - 0.1) + 292.358 * (x - 0.1) * (x - 0.5) + -237.271 * (x - 0.1) * (x - 0.5) * (x - 0.9)\n",
      "Значение многочлена Ньютона в точке x* = 0.8: -1.192127985974163\n",
      "Погрешность интерполяции Ньютона: 3.3946279859741626\n"
     ]
    }
   ],
   "source": [
    "newton_value, newton_polynomial_str = newton_polynomial(x_star, x_data, y_data)\n",
    "newton_error = abs(true_value - newton_value)\n",
    "print(f\"Многочлен Ньютона: {newton_polynomial_str}\")\n",
    "print(f\"Значение многочлена Ньютона в точке x* = {x_star}: {newton_value}\")\n",
    "print(f\"Погрешность интерполяции Ньютона: {newton_error}\")"
   ]
  },
  {
   "cell_type": "markdown",
   "metadata": {},
   "source": [
    "Значения для пункта \"Б\""
   ]
  },
  {
   "cell_type": "code",
   "execution_count": 16,
   "metadata": {},
   "outputs": [],
   "source": [
    "x_data = np.array([0.1, 0.5, 1.1, 1.3])\n",
    "y_data = function(x_data)"
   ]
  },
  {
   "cell_type": "markdown",
   "metadata": {},
   "source": [
    "Интерполяционный многочлен Лагранжа"
   ]
  },
  {
   "cell_type": "code",
   "execution_count": 17,
   "metadata": {},
   "outputs": [
    {
     "name": "stdout",
     "output_type": "stream",
     "text": [
      "╒═════╤══════╤═════════╤═══════════╤═════════════╕\n",
      "│   i │   xi │      fi │   omega i │   fi/omegai │\n",
      "╞═════╪══════╪═════════╪═══════════╪═════════════╡\n",
      "│   0 │  0.1 │ 100.01  │    -0.48  │    -208.354 │\n",
      "├─────┼──────┼─────────┼───────────┼─────────────┤\n",
      "│   1 │  0.5 │   4.25  │     0.192 │      22.135 │\n",
      "├─────┼──────┼─────────┼───────────┼─────────────┤\n",
      "│   2 │  1.1 │   2.036 │    -0.12  │     -16.97  │\n",
      "├─────┼──────┼─────────┼───────────┼─────────────┤\n",
      "│   3 │  1.3 │   2.282 │     0.192 │      11.884 │\n",
      "╘═════╧══════╧═════════╧═══════════╧═════════════╛\n",
      "Значение функции в точке x* = 0.8: 2.2024999999999997\n",
      "Многочлен Лагранжа: -208.354 * (x - 0.1)+22.135 * (x - 0.5)-16.97 * (x - 1.1)+11.884 * (x - 1.3)\n",
      "Значение многочлена Лагранжа в точке x* = 0.8: -6.018516308865962\n",
      "Погрешность интерполяции Лагранжа: 8.221016308865963\n"
     ]
    }
   ],
   "source": [
    "lagrange_value, lagrange_polynomial_str = lagrange_polynomial(x_star, x_data, y_data)\n",
    "lagrange_error = abs(true_value - lagrange_value)\n",
    "print(f\"Значение функции в точке x* = {x_star}: {true_value}\")\n",
    "print(f\"Многочлен Лагранжа: {lagrange_polynomial_str}\")\n",
    "print(f\"Значение многочлена Лагранжа в точке x* = {x_star}: {lagrange_value}\")\n",
    "print(f\"Погрешность интерполяции Лагранжа: {lagrange_error}\")"
   ]
  },
  {
   "cell_type": "markdown",
   "metadata": {},
   "source": [
    "Интерполяционный многочлен Ньютона"
   ]
  },
  {
   "cell_type": "code",
   "execution_count": 18,
   "metadata": {},
   "outputs": [
    {
     "name": "stdout",
     "output_type": "stream",
     "text": [
      "╒═════╤══════╤═════════╕\n",
      "│   i │   xi │      fi │\n",
      "╞═════╪══════╪═════════╡\n",
      "│   0 │  0.1 │ 100.01  │\n",
      "├─────┼──────┼─────────┤\n",
      "│   1 │  0.5 │   4.25  │\n",
      "├─────┼──────┼─────────┤\n",
      "│   2 │  1.1 │   2.036 │\n",
      "├─────┼──────┼─────────┤\n",
      "│   3 │  1.3 │   2.282 │\n",
      "╘═════╧══════╧═════════╛\n",
      "╒════════════╕\n",
      "│         f2 │\n",
      "╞════════════╡\n",
      "│ -239.4     │\n",
      "├────────────┤\n",
      "│   -3.68926 │\n",
      "├────────────┤\n",
      "│    1.22635 │\n",
      "╘════════════╛\n",
      "╒═══════════╕\n",
      "│        f3 │\n",
      "╞═══════════╡\n",
      "│ 235.711   │\n",
      "├───────────┤\n",
      "│   6.14451 │\n",
      "╘═══════════╛\n",
      "╒══════════╕\n",
      "│       f4 │\n",
      "╞══════════╡\n",
      "│ -191.305 │\n",
      "╘══════════╛\n",
      "Многочлен Ньютона: 100.01 + -239.4 * (x - 0.1) + 235.711 * (x - 0.1) * (x - 0.5) + -191.305 * (x - 0.1) * (x - 0.5) * (x - 1.1)\n",
      "Значение многочлена Ньютона в точке x* = 0.8: -6.018516308865964\n",
      "Погрешность интерполяции Ньютона: 8.221016308865963\n"
     ]
    }
   ],
   "source": [
    "newton_value, newton_polynomial_str = newton_polynomial(x_star, x_data, y_data)\n",
    "newton_error = abs(true_value - newton_value)\n",
    "print(f\"Многочлен Ньютона: {newton_polynomial_str}\")\n",
    "print(f\"Значение многочлена Ньютона в точке x* = {x_star}: {newton_value}\")\n",
    "print(f\"Погрешность интерполяции Ньютона: {newton_error}\")"
   ]
  }
 ],
 "metadata": {
  "kernelspec": {
   "display_name": "Python 3",
   "language": "python",
   "name": "python3"
  },
  "language_info": {
   "codemirror_mode": {
    "name": "ipython",
    "version": 3
   },
   "file_extension": ".py",
   "mimetype": "text/x-python",
   "name": "python",
   "nbconvert_exporter": "python",
   "pygments_lexer": "ipython3",
   "version": "3.12.1"
  }
 },
 "nbformat": 4,
 "nbformat_minor": 2
}
